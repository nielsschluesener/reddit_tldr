{
  "nbformat": 4,
  "nbformat_minor": 0,
  "metadata": {
    "colab": {
      "name": "data_merge.ipynb",
      "provenance": [],
      "collapsed_sections": []
    },
    "kernelspec": {
      "name": "python3",
      "display_name": "Python 3"
    },
    "language_info": {
      "name": "python"
    }
  },
  "cells": [
    {
      "cell_type": "code",
      "source": [
        "import pandas as pd\n",
        "import numpy as np\n",
        "\n",
        "from google.colab import drive"
      ],
      "metadata": {
        "id": "k3WlDJT_uqs2"
      },
      "execution_count": null,
      "outputs": []
    },
    {
      "cell_type": "markdown",
      "source": [
        "# Config"
      ],
      "metadata": {
        "id": "p5R7AfU7M0Xs"
      }
    },
    {
      "cell_type": "markdown",
      "source": [
        "Mount Google Drive (only works with Google Colab)."
      ],
      "metadata": {
        "id": "i8vX5vohOQSI"
      }
    },
    {
      "cell_type": "code",
      "source": [
        "drive.mount('/content/drive')\n",
        "file = '/content/drive/My Drive/ml_projects/reddit_tldr/'"
      ],
      "metadata": {
        "colab": {
          "base_uri": "https://localhost:8080/"
        },
        "id": "ZvA1-BFpo0Xd",
        "outputId": "b28ca328-9ac4-4b26-8028-4fd9958c9cc6"
      },
      "execution_count": null,
      "outputs": [
        {
          "output_type": "stream",
          "name": "stdout",
          "text": [
            "Mounted at /content/drive\n"
          ]
        }
      ]
    },
    {
      "cell_type": "markdown",
      "source": [
        "# Self-scraped dataset"
      ],
      "metadata": {
        "id": "dxASkMj9OTCc"
      }
    },
    {
      "cell_type": "markdown",
      "source": [
        "Load dataset from mounted Google Drive."
      ],
      "metadata": {
        "id": "X52FnvbTOfp_"
      }
    },
    {
      "cell_type": "code",
      "source": [
        "df_scraped = pd.read_pickle(file + 'my_reddit_data.pkl')"
      ],
      "metadata": {
        "id": "FnnS-w5SSrTB"
      },
      "execution_count": null,
      "outputs": []
    },
    {
      "cell_type": "markdown",
      "source": [
        "Investigate shape."
      ],
      "metadata": {
        "id": "9yJFU-TUOwR1"
      }
    },
    {
      "cell_type": "code",
      "source": [
        "print(f'Number of observations: {df_scraped.shape[0]}')\n",
        "print(f'Number of features: {df_scraped.shape[1]}')"
      ],
      "metadata": {
        "colab": {
          "base_uri": "https://localhost:8080/"
        },
        "id": "oo7nkW5BMnw3",
        "outputId": "7e1a878f-558a-4e6f-f897-e06cab40dfe5"
      },
      "execution_count": null,
      "outputs": [
        {
          "output_type": "stream",
          "name": "stdout",
          "text": [
            "Number of observations: 1707\n",
            "Number of features: 6\n"
          ]
        }
      ]
    },
    {
      "cell_type": "markdown",
      "source": [
        "Take a look at an indiviual stories and their TLDRs."
      ],
      "metadata": {
        "id": "-OXms-fKOzTJ"
      }
    },
    {
      "cell_type": "code",
      "source": [
        "for i in range (2):\n",
        "  print(f'Story number {i}:')\n",
        "  print(df_scraped['story'].iloc[i])\n",
        "  print(f'Matching TLDR:')\n",
        "  print(df_scraped['tldr'].iloc[i])\n",
        "  print()"
      ],
      "metadata": {
        "colab": {
          "base_uri": "https://localhost:8080/"
        },
        "id": "BbGi3odWURw9",
        "outputId": "a782ca91-924b-4df5-d7f8-ef0e052562a6"
      },
      "execution_count": null,
      "outputs": [
        {
          "output_type": "stream",
          "name": "stdout",
          "text": [
            "Story number 0:\n",
            "Hi Reddit!\n",
            "\n",
            "So my GF of over 10 years told me about a week ago that she will spend the NYE with her friends instead of staying home with me and our son. She asked me if I would be ok with it and I told her that it would make me sad but ultimately it's her decision and I won't stop her if that makes her happy. I also suggested that she could take me with her but she said that the other girls are coming alone and it would be weird if I came along.\n",
            "\n",
            "So I spent the NYE with my son and my GFs mother who is visiting us for the holidays. We had a short phonecall to wish each other happy new year and I tried to be happy and smiling but inside I'm feeling quite sad and I had a lot of trouble going to sleep because I just kept thinking about our situation and why she would choose her friends over me to spend this special moment.\n",
            "\n",
            "I'm not sure if and how to talk about it with her when she finally decides to come home. I don't like to cause conflict but I think my happiness is also important in this relationship.\n",
            "\n",
            "\n",
            "Matching TLDR:\n",
            "Tldr: GF spent NYE with her friends instead of our family. Should I say something about it or just go on as if nothing happened?\n",
            "\n",
            "Story number 1:\n",
            "She invited me to a new year's eve event two weeks ago. I said yes I'll go, just let me know when you get your ticket and I'll get mine. She said she already has hers so I got mine, $70.\n",
            "\n",
            "Fast forward to 12/30 and now she tells me that actually she is going to leave at 10pm bc she got invited to another event. \n",
            "\n",
            "She has done things like this multiple times. Once she invited 20 people to her house for a party 3 weeks in advance, then a few days before the party canceled it bc she got invited to something else.\n",
            "\n",
            "Once I invited her to an event and the day came and I asked her what time she wanted to meet and she was actually already there with a different friend and they were about to leave.\n",
            "\n",
            "She is flaky and that is one thing but I feel this is also selfishness. I told her that I was upset with her about NYE because my family had considered going out of town but since I already had these plans with her I told them no. Then the day before she effectively bails bc obviously the point of a new year's event is midnight. \n",
            "\n",
            "My question is, should I further explain to her how upset I am bc I had to sit at home alone on new year's bc of her selfishness or not? The thing is, we have already discussed this yesterday and she did apologize and offered to pay me back. But for me it's not about the money. I saw today on her social media her posting her pics from last night and it infuriates me. I want to further go into how she has treated me and how her selfishness affected me.\n",
            "\n",
            "But, since she already apologized I think maybe I'm just raging and shouldn't say anything else bc at this point it would just be for the sake of expressing my anger which maybe isn't constructive. \n",
            "\n",
            "\n",
            "Matching TLDR:\n",
            "TLDR; My friend bailed on me for new year's and I'm furious. But I already told her this and she already apologized. I'm still mad though and want to further explain to her how it affected me and how hurt I am to sit at home alone on new year's bc of her selfishness,  but at this point maybe it's not constructive bc what else can she do other than apologize?\n",
            "\n"
          ]
        }
      ]
    },
    {
      "cell_type": "markdown",
      "source": [
        "While the scraper works fine and managed to scrape around 2000 posts without major errors from the relationships-subreddit in one week, it is not possible to scrape archived posts, which makes generatating a large amount of data in short time impossible. \n",
        "\n",
        "However, more data is needed for this kind of task. \n",
        "\n",
        "Therefore, the data scraped by myself is massively enriched by the open source  [reddit dataset](https://www.tensorflow.org/datasets/catalog/reddit) with a filter on subreddit = 'r/relationships'."
      ],
      "metadata": {
        "id": "yC-v3R1vPN8_"
      }
    },
    {
      "cell_type": "markdown",
      "source": [
        "# Tensorflow reddit dataset "
      ],
      "metadata": {
        "id": "tnkIaxyISmhi"
      }
    },
    {
      "cell_type": "markdown",
      "source": [
        "Load dataset from mounted Google Drive."
      ],
      "metadata": {
        "id": "Z7zg93jiSszA"
      }
    },
    {
      "cell_type": "code",
      "source": [
        "df_tflow = pd.read_pickle(file + 'tf_reddit_data_complete.pkl')"
      ],
      "metadata": {
        "id": "yvl-1RiHvD_d"
      },
      "execution_count": null,
      "outputs": []
    },
    {
      "cell_type": "markdown",
      "source": [
        "Investigate shape."
      ],
      "metadata": {
        "id": "iO6HOrUpSwkW"
      }
    },
    {
      "cell_type": "code",
      "source": [
        "print(f'Number of observations: {df_tflow.shape[0]}')\n",
        "print(f'Number of features: {df_tflow.shape[1]}')"
      ],
      "metadata": {
        "colab": {
          "base_uri": "https://localhost:8080/"
        },
        "id": "dn2zCDsvIdZw",
        "outputId": "89a73676-55e6-4f42-b5e4-5e31e025e618"
      },
      "execution_count": null,
      "outputs": [
        {
          "output_type": "stream",
          "name": "stdout",
          "text": [
            "Number of observations: 402448\n",
            "Number of features: 8\n"
          ]
        }
      ]
    },
    {
      "cell_type": "markdown",
      "source": [
        "Take a look at an indiviual stories and their TLDRs."
      ],
      "metadata": {
        "id": "KpAUi4IeSzTR"
      }
    },
    {
      "cell_type": "code",
      "source": [
        "for i in range (2):\n",
        "  print(f'Story number {i}:')\n",
        "  print(df_tflow['content'].iloc[i])\n",
        "  print(f'Matching TLDR:')\n",
        "  print(df_tflow['summary'].iloc[i])\n",
        "  print()"
      ],
      "metadata": {
        "colab": {
          "base_uri": "https://localhost:8080/"
        },
        "id": "kmeBOZQBIr--",
        "outputId": "b7ddc122-f7ef-4020-a820-2a4efd932f8b"
      },
      "execution_count": null,
      "outputs": [
        {
          "output_type": "stream",
          "name": "stdout",
          "text": [
            "Story number 0:\n",
            "b'First, I just want to thank whoever is reading this. I\\'m having a horrible day. Second, no, this isn\\'t your typical jealousy as in \"I don\\'t want you hanging around them, you might cheat on me\", it\\'s actual envy as in \"why can\\'t I be more like you? Why are you so good at everything?\" \\n Before I explain, I guess I\\'ll have to give you some context to make things more clear. I am 19 years old and female, and my girlfriend is 19, too; her name is Sarah. We\\'ve been in a relationship for about a year and a half now. A few weeks to about a month ago (I don\\'t know how long exactly), Sarah got her first job at Dunkin\\' Donuts. Her sister took her to a job fair because she used to work at Dunkin\\' too, and Sarah applied, met the manager, and left. She didn\\'t get a call, but her sister talked to the girl and she got the job pretty much the next day. When she told me she had gotten a job, I tried so hard to be happy for her, but all I could think about was how hard I had tried to get a job and how much stress it had caused me (and still does), and yet I still failed, while she seemed to just do what I couldn\\'t with practically a flick of her wrist (she also did this in school; she would make way better grades than me seemingly without trying, and she also draws and sings way better than me). The more I thought about it and the more she talked about it, the more it frustrated me. On top of this, her parents and her worked out a deal for their living situation (forgive me because I don\\'t remember all the details so I might be leaving something out/getting something wrong): Sarah\\'s parents would move out (because they\\'ve been wanting to move for a long time, but Sarah didn\\'t want to go with them), her friend Ayla would move in, and since they both have jobs, they will pay for their own food, utilities, etc. while Sarah\\'s parents cover the mortgage (for now, at least). In addition to this, Sarah just got a new puppy, a German Shepherd, which I want so badly, but I don\\'t think I\\'ll ever have a dog of my own (even though I have had dogs pretty much all my life, they were never \"mine\", but the family\\'s), and even if I did have one, I am afraid I wouldn\\'t be able to take care of it, or it wouldn\\'t like me. \\n The problem is that I can\\'t ever be happy for Sarah in anything she does like a normal person would be for their partner when good things happen to them; rather, I just get really envious. It\\'s starting to become a problem; it makes her angry when I do it, but I can\\'t help the way I feel. I have tried to just be happy for her and support her, but then I just go back to my old habits of comparing her life to mine and feeling really down on myself for not having as much or being able to do what she does. I just get so upset because I feel like she can do whatever she wants perfectly without even trying, while I\\'m struggling just to figure my life out. I have been feeling like I\\'m in her shadow for a while now, and it\\'s starting to really infuriate me. \\n I guess I\\'m not mad AT her, just mad ABOUT her, if that makes sense. I suppose just try to imagine having a best friend and being extremely jealous of everything this person is, has, and does, only you\\'re also in a relationship with this person. She just makes me feel so inadequate just by being around me because she\\'s just so much better of a person. I know she doesn\\'t mean to and she tries to make me not feel so lowly, but it doesn\\'t work; it just makes me angrier. The worst thing is I feel bad for feeling this way because I sound so ungrateful and selfish and it drags her down, but I also feel miserable because I feel so inferior; I can\\'t win. \\n I don\\'t think this is normal. I would like to hear what you guys have to say on this, because I fear that this is a serious red flag in my relationship, and the worst part is it would be pretty much all my fault.'\n",
            "Matching TLDR:\n",
            "b\"I'm extremely envious of my girlfriend and it's causing problems in my relationship, and I don't know how to stop.\"\n",
            "\n",
            "Story number 1:\n",
            "b\"My girlfriend and I have been dating since the beginning of 11th grade and we are having to deal with what we are going to do at the end of the year when we both go to college. There is a chance we will end up at the same school, but probably not, but it's making her really emotional already and I don't know how to deal with any of this. Do you have any advice?\"\n",
            "Matching TLDR:\n",
            "b\"Girlfriend and I are going to different colleges and I don't know how to deal with it.\"\n",
            "\n"
          ]
        }
      ]
    },
    {
      "cell_type": "markdown",
      "source": [
        "# Merging the dataset"
      ],
      "metadata": {
        "id": "jtMFK2lyUK3Z"
      }
    },
    {
      "cell_type": "markdown",
      "source": [
        "A brief exploration of the data sets revealed the following differences:\n",
        "\n",
        "* We have different column-names\n",
        "* We have a different amount of columns and only two columns contain relevant information\n",
        "* The tensorflow reddit dataset is binary encoded\n",
        "\n",
        "These differences are aligned in the following lines of code."
      ],
      "metadata": {
        "id": "MtW9tuUPToC_"
      }
    },
    {
      "cell_type": "markdown",
      "source": [
        "Only keep the relevant columns."
      ],
      "metadata": {
        "id": "g5v8JwYLVTeW"
      }
    },
    {
      "cell_type": "code",
      "source": [
        "df_tflow = df_tflow[['content','summary']]\n",
        "df_scraped = df_scraped[['story','tldr']]"
      ],
      "metadata": {
        "id": "zp-oRO3Qj_Mp"
      },
      "execution_count": null,
      "outputs": []
    },
    {
      "cell_type": "markdown",
      "source": [
        "Match column names."
      ],
      "metadata": {
        "id": "nxnegyk6VZie"
      }
    },
    {
      "cell_type": "code",
      "source": [
        "df_tflow = df_tflow.rename(columns={'content': 'story', 'summary': 'tldr'})"
      ],
      "metadata": {
        "id": "IZKktGpCkRYU"
      },
      "execution_count": null,
      "outputs": []
    },
    {
      "cell_type": "markdown",
      "source": [
        "Change encoding to UTF-8."
      ],
      "metadata": {
        "id": "qxvWE2lDVgME"
      }
    },
    {
      "cell_type": "code",
      "source": [
        "for c in list(df_tflow):\n",
        "  df_tflow[c] = df_tflow[c].str.decode(\"utf-8\")"
      ],
      "metadata": {
        "id": "w4cAmJAKlaYF"
      },
      "execution_count": null,
      "outputs": []
    },
    {
      "cell_type": "markdown",
      "source": [
        "As a last step, we merge the datasets."
      ],
      "metadata": {
        "id": "CHOHOMmJVluF"
      }
    },
    {
      "cell_type": "code",
      "source": [
        "df = pd.concat([df_scraped, df_tflow], ignore_index=True)"
      ],
      "metadata": {
        "id": "9_vMvLZJmZMR"
      },
      "execution_count": null,
      "outputs": []
    },
    {
      "cell_type": "markdown",
      "source": [
        "Investigate shape of the merged dataset."
      ],
      "metadata": {
        "id": "-CfxDyDKV2ht"
      }
    },
    {
      "cell_type": "code",
      "source": [
        "print(f'Number of observations: {df.shape[0]}')\n",
        "print(f'Number of features: {df.shape[1]}')"
      ],
      "metadata": {
        "colab": {
          "base_uri": "https://localhost:8080/"
        },
        "id": "CJCYqyNanEbo",
        "outputId": "f1a0c3bb-05fb-4a20-94ad-1d8e6a4a9dbf"
      },
      "execution_count": null,
      "outputs": [
        {
          "output_type": "stream",
          "name": "stdout",
          "text": [
            "Number of observations: 404155\n",
            "Number of features: 2\n"
          ]
        }
      ]
    },
    {
      "cell_type": "markdown",
      "source": [
        "Save the dataset go Google Drive."
      ],
      "metadata": {
        "id": "XgkZRtmBVxxn"
      }
    },
    {
      "cell_type": "code",
      "source": [
        "df.to_pickle(file + 'combined_reddit_data.pkl')"
      ],
      "metadata": {
        "id": "mzdnKnRrnLy8"
      },
      "execution_count": null,
      "outputs": []
    },
    {
      "cell_type": "markdown",
      "source": [
        "End of data merging.\n",
        "\n",
        "Next notebook: data_prep_and_viz.ipynb"
      ],
      "metadata": {
        "id": "VeusVzOUWDpP"
      }
    }
  ]
}